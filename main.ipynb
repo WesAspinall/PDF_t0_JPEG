{
 "cells": [
  {
   "cell_type": "code",
   "execution_count": 1,
   "metadata": {},
   "outputs": [],
   "source": [
    "import fitz  # PyMuPDF\n",
    "from PIL import Image"
   ]
  },
  {
   "cell_type": "code",
   "execution_count": 2,
   "metadata": {},
   "outputs": [],
   "source": [
    "def convert_pdf_to_image(pdf_path, output_image_path, page_number=0):\n",
    "    # Open the PDF file\n",
    "    pdf_document = fitz.open(pdf_path)\n",
    "\n",
    "    # Get the specified page\n",
    "    page = pdf_document[page_number]\n",
    "\n",
    "    # Convert the page to a PIL Image\n",
    "    image = page.get_pixmap()\n",
    "\n",
    "    # Save the image\n",
    "    image.save(output_image_path)\n",
    "\n",
    "    # Close the PDF document\n",
    "    pdf_document.close()\n",
    "\n",
    "if __name__ == \"__main__\":\n",
    "    pdf_path = \"./pdf/sample_pdf.pdf\"\n",
    "    output_image_path = \"./img/sample_image.jpg\"\n",
    "    page_number = 0  # You can specify the page number (zero-based index)\n",
    "\n",
    "    convert_pdf_to_image(pdf_path, output_image_path, page_number)\n"
   ]
  }
 ],
 "metadata": {
  "kernelspec": {
   "display_name": "Python 3",
   "language": "python",
   "name": "python3"
  },
  "language_info": {
   "codemirror_mode": {
    "name": "ipython",
    "version": 3
   },
   "file_extension": ".py",
   "mimetype": "text/x-python",
   "name": "python",
   "nbconvert_exporter": "python",
   "pygments_lexer": "ipython3",
   "version": "3.11.4"
  }
 },
 "nbformat": 4,
 "nbformat_minor": 2
}
