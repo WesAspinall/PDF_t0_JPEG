{
 "cells": [
  {
   "cell_type": "markdown",
   "metadata": {},
   "source": [
    "### Imports"
   ]
  },
  {
   "cell_type": "code",
   "execution_count": 4,
   "metadata": {},
   "outputs": [],
   "source": [
    "import fitz  # PyMuPDF\n",
    "from PIL import Image"
   ]
  },
  {
   "cell_type": "markdown",
   "metadata": {},
   "source": [
    "### Function Definitions"
   ]
  },
  {
   "cell_type": "code",
   "execution_count": 5,
   "metadata": {},
   "outputs": [],
   "source": [
    "def convert_pdf_to_image(pdf_path, output_image_path, page_number=0):\n",
    "    # Open the PDF file\n",
    "    pdf_document = fitz.open(pdf_path)\n",
    "\n",
    "    # Get the specified page\n",
    "    page = pdf_document[page_number]\n",
    "\n",
    "    # Convert the page to a PIL Image\n",
    "    image = page.get_pixmap()\n",
    "\n",
    "    # Save the image\n",
    "    image.save(output_image_path)\n",
    "\n",
    "    # Close the PDF document\n",
    "    pdf_document.close()\n",
    "    \n",
    "    print(\"Image generated\")\n"
   ]
  },
  {
   "cell_type": "markdown",
   "metadata": {},
   "source": [
    "### Usage"
   ]
  },
  {
   "cell_type": "code",
   "execution_count": null,
   "metadata": {},
   "outputs": [],
   "source": [
    "pdf_path = \"./pdf/ready-set-goals-flyer 2024.pdf\"\n",
    "output_image_path = \"./img/ready-set-goals-flyer 2024.jpg\"\n",
    "page_number = 0  # You can specify the page number (zero-based index)\n",
    "\n",
    "convert_pdf_to_image(pdf_path, output_image_path, page_number)"
   ]
  }
 ],
 "metadata": {
  "kernelspec": {
   "display_name": "Python 3",
   "language": "python",
   "name": "python3"
  },
  "language_info": {
   "codemirror_mode": {
    "name": "ipython",
    "version": 3
   },
   "file_extension": ".py",
   "mimetype": "text/x-python",
   "name": "python",
   "nbconvert_exporter": "python",
   "pygments_lexer": "ipython3",
   "version": "3.11.7"
  }
 },
 "nbformat": 4,
 "nbformat_minor": 2
}
